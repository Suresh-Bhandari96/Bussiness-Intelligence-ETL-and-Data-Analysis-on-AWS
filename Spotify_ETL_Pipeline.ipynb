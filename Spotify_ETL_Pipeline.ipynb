{
 "cells": [
  {
   "cell_type": "code",
   "execution_count": null,
   "id": "47676c64-4ac6-4cee-bad1-1b7e1cdb1740",
   "metadata": {},
   "outputs": [],
   "source": [
    "# Install the 'spotipy' Python package using pip.\n",
    "# This library allows you to interact with the Spotify Web API.\n",
    "\n",
    "!pip install spotipy"
   ]
  },
  {
   "cell_type": "code",
   "execution_count": null,
   "id": "b5ece67b-bb82-4208-aa68-82c7a90f5abf",
   "metadata": {},
   "outputs": [],
   "source": [
    "# Import the 'spotipy' library and necessary modules for Spotify API interaction.\n",
    "\n",
    "import spotipy\n",
    "import pandas as pd\n",
    "from spotipy.oauth2 import SpotifyClientCredentials"
   ]
  },
  {
   "cell_type": "code",
   "execution_count": null,
   "id": "8de2af74-9808-4101-9e89-2679d6c0ccde",
   "metadata": {},
   "outputs": [],
   "source": [
    "# Create a Spotify client credentials manager with the specified client ID and client secret.\n",
    "\n",
    "client_credentials_manager = SpotifyClientCredentials(client_id=\"92ccb947a6e944b880f15c0fe6803856\", client_secret=\"b817dadb46e047eebc0aa83d9aa0da51\")"
   ]
  },
  {
   "cell_type": "code",
   "execution_count": null,
   "id": "e8d037fa-1429-4a45-a24a-126b3ccdf21c",
   "metadata": {},
   "outputs": [],
   "source": [
    "# Create a Spotify API client ('sp') using the client credentials manager.\n",
    "\n",
    "sp = spotipy.Spotify(client_credentials_manager = client_credentials_manager)"
   ]
  },
  {
   "cell_type": "code",
   "execution_count": null,
   "id": "c8cbeeec-e0c0-49eb-895d-c388160dd03e",
   "metadata": {},
   "outputs": [],
   "source": [
    "playlist_link = \"https://open.spotify.com/playlist/37i9dQZEVXbMDoHDwVN2tF\""
   ]
  },
  {
   "cell_type": "code",
   "execution_count": null,
   "id": "107d10fe-6d7e-4dd1-837d-999049bfe42a",
   "metadata": {},
   "outputs": [],
   "source": [
    "playlist_URI = playlist_link.split(\"/\")[4]"
   ]
  },
  {
   "cell_type": "code",
   "execution_count": null,
   "id": "cf54752b-6e66-453a-a3b6-a6f4795e8792",
   "metadata": {},
   "outputs": [],
   "source": [
    "# Retrieve the tracks of a Spotify playlist using the 'playlist_URI'.\n",
    "\n",
    "data = sp.playlist_tracks(playlist_URI)"
   ]
  },
  {
   "cell_type": "code",
   "execution_count": null,
   "id": "fdb3d45c-3f28-4cf4-bfe1-56b968b028a5",
   "metadata": {},
   "outputs": [],
   "source": [
    "data['items']"
   ]
  },
  {
   "cell_type": "code",
   "execution_count": null,
   "id": "75ab08c0-317c-4eec-a591-1c58aacee0bc",
   "metadata": {},
   "outputs": [],
   "source": [
    "# Extract album information from the Spotify playlist data and store it in a list.\n",
    "\n",
    "album_data_list=[]\n",
    "for row in data[\"items\"]:\n",
    "    album_id = row[\"track\"][\"album\"][\"id\"]\n",
    "    album_name = row[\"track\"][\"album\"][\"name\"]\n",
    "    album_release_date = row[\"track\"][\"album\"][\"release_date\"]\n",
    "    album_total_tracks = row[\"track\"][\"album\"][\"total_tracks\"]\n",
    "    album_external_urls = row[\"track\"][\"album\"][\"external_urls\"][\"spotify\"]\n",
    "    album_data = {\"album_id\":album_id, \"album_name\":album_name, \"album_release_date\":album_release_date,\n",
    "                  \"album_total_tracks\":album_total_tracks, \"album_external_urls\":album_external_urls}\n",
    "    album_data_list.append(album_data)"
   ]
  },
  {
   "cell_type": "code",
   "execution_count": null,
   "id": "19467878-97a2-4c21-87bf-f0e7feadb368",
   "metadata": {},
   "outputs": [],
   "source": [
    "# Extract artist information from the Spotify playlist data and store it in a list.\n",
    "\n",
    "artist_data_list=[]\n",
    "for row in data[\"items\"]:\n",
    "    for key,value in row.items():\n",
    "        if key == \"track\":\n",
    "            for artist in value['artists']:\n",
    "                artist_id = artist[\"id\"]\n",
    "                artist_name = artist[\"name\"]\n",
    "                artist_external_urls = artist[\"external_urls\"][\"spotify\"]\n",
    "                artist_data = {\"artist_id\":artist_id, \"artist_name\":artist_name, \"artist_external_urls\":artist_external_urls}\n",
    "                artist_data_list.append(artist_data)"
   ]
  },
  {
   "cell_type": "code",
   "execution_count": null,
   "id": "884d2cb4-f17e-4775-84f0-820cd79e02cb",
   "metadata": {},
   "outputs": [],
   "source": [
    "# Extract track information from the Spotify playlist data and store it in a list.\n",
    "\n",
    "track_data_list=[]\n",
    "for row in data[\"items\"]:\n",
    "    track_id = row[\"track\"][\"id\"]\n",
    "    track_name = row[\"track\"][\"name\"]\n",
    "    track_popularity = row[\"track\"][\"popularity\"]\n",
    "    track_duration =row[\"track\"][\"duration_ms\"]\n",
    "    track_number = row[\"track\"][\"track_number\"]\n",
    "    track_preview_url = row[\"track\"][\"preview_url\"]\n",
    "    track_external_urls = row[\"track\"][\"external_urls\"][\"spotify\"]\n",
    "    album_id = row[\"track\"][\"album\"][\"id\"]\n",
    "    artist_id = row[\"track\"][\"album\"][\"artists\"][0][\"id\"]\n",
    "    track_added_at = row[\"added_at\"]\n",
    "    track_data = {\"track_id\":artist_id, \"track_name\":track_name, \"track_popularity\":track_popularity, \"track_duration\": track_duration,\n",
    "                     \"track_number\": track_number, \"track_preview_url\":track_preview_url, \"track_external_urls\":track_external_urls,\n",
    "                    \"album_id\":album_id, \"artist_id\": artist_id, \"track_added_at\": track_added_at }\n",
    "    track_data_list.append(track_data)"
   ]
  },
  {
   "cell_type": "code",
   "execution_count": null,
   "id": "ed0455ed-7e6d-43d2-90e6-9b5fd8659e11",
   "metadata": {},
   "outputs": [],
   "source": [
    "# Create a pandas DataFrame from the list of album data.\n",
    "\n",
    "album_df = pd.DataFrame.from_dict(album_data_list)"
   ]
  },
  {
   "cell_type": "code",
   "execution_count": null,
   "id": "2b93c9db-76e1-4cf4-83d0-90781356f910",
   "metadata": {},
   "outputs": [],
   "source": [
    "album_df.head()"
   ]
  },
  {
   "cell_type": "code",
   "execution_count": null,
   "id": "a25ceac8-1597-433e-9829-8aa8d619b5bb",
   "metadata": {},
   "outputs": [],
   "source": [
    "album_df.info()"
   ]
  },
  {
   "cell_type": "code",
   "execution_count": null,
   "id": "3f477ab6-5179-4cd1-9eef-e34c930fa2ca",
   "metadata": {},
   "outputs": [],
   "source": [
    "# Remove duplicate album entries based on the 'album_id' column.\n",
    "\n",
    "album_df = album_df.drop_duplicates(subset=['album_id'])"
   ]
  },
  {
   "cell_type": "code",
   "execution_count": null,
   "id": "8169dc1a-7a58-477c-b5ed-537804d87296",
   "metadata": {},
   "outputs": [],
   "source": [
    "# Convert the 'album_release_date' column to a pandas datetime format.\n",
    "\n",
    "album_df['album_release_date'] = pd.to_datetime(album_df['album_release_date'])"
   ]
  },
  {
   "cell_type": "code",
   "execution_count": null,
   "id": "2cacc0b7-1481-4fd3-9535-003185aa03c1",
   "metadata": {},
   "outputs": [],
   "source": [
    "# Create a pandas DataFrame from the list of artist data.\n",
    "\n",
    "artist_df = pd.DataFrame.from_dict(artist_data_list)"
   ]
  },
  {
   "cell_type": "code",
   "execution_count": null,
   "id": "a46f8a3d-4432-4c5a-84ba-c7673a378362",
   "metadata": {},
   "outputs": [],
   "source": [
    "artist_df.head()"
   ]
  },
  {
   "cell_type": "code",
   "execution_count": null,
   "id": "6e3053ad-ebd4-417e-b416-dcf74954ddbd",
   "metadata": {},
   "outputs": [],
   "source": [
    "artist_df = artist_df.drop_duplicates(subset=['artist_id'])"
   ]
  },
  {
   "cell_type": "code",
   "execution_count": null,
   "id": "7854a5c8-d0b9-43c2-9a7b-cdc81d7cab11",
   "metadata": {},
   "outputs": [],
   "source": [
    "# Create a pandas DataFrame from the list of track data.\n",
    "\n",
    "track_df = pd.DataFrame.from_dict(track_data_list)"
   ]
  },
  {
   "cell_type": "code",
   "execution_count": null,
   "id": "b71e111d-5b90-4106-b522-efc6aaaf0cdf",
   "metadata": {},
   "outputs": [],
   "source": [
    "track_df = track_df.drop_duplicates(subset=['track_id'])"
   ]
  },
  {
   "cell_type": "code",
   "execution_count": null,
   "id": "4a38b132-d51f-4ad9-add5-50fc1eb636b4",
   "metadata": {},
   "outputs": [],
   "source": [
    "track_df"
   ]
  },
  {
   "cell_type": "code",
   "execution_count": null,
   "id": "d74451db-49f6-4898-b45a-8148be21c6b8",
   "metadata": {},
   "outputs": [],
   "source": [
    "track_df['track_added_at'] = pd.to_datetime(track_df['track_added_at'])"
   ]
  },
  {
   "cell_type": "code",
   "execution_count": null,
   "id": "a5f6928e-c917-4448-bab1-43bc5665403a",
   "metadata": {
    "scrolled": true
   },
   "outputs": [],
   "source": [
    "track_df.info()"
   ]
  }
 ],
 "metadata": {
  "kernelspec": {
   "display_name": "Python 3 (ipykernel)",
   "language": "python",
   "name": "python3"
  },
  "language_info": {
   "codemirror_mode": {
    "name": "ipython",
    "version": 3
   },
   "file_extension": ".py",
   "mimetype": "text/x-python",
   "name": "python",
   "nbconvert_exporter": "python",
   "pygments_lexer": "ipython3",
   "version": "3.9.0"
  }
 },
 "nbformat": 4,
 "nbformat_minor": 5
}
